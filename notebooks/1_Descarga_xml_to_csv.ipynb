{
 "cells": [
  {
   "cell_type": "markdown",
   "metadata": {},
   "source": [
    "# Descarga de los ficheros de la url de la Junta de Andalucía"
   ]
  },
  {
   "cell_type": "markdown",
   "metadata": {},
   "source": [
    "Nota: la variables path_final debe ser cambiada por una ruta válida"
   ]
  },
  {
   "cell_type": "code",
   "execution_count": null,
   "metadata": {},
   "outputs": [],
   "source": [
    "#!pip install patool\n",
    "#!pip install unrar\n",
    "#!pip install pyunpack\n",
    "#!pip install xmltodict"
   ]
  },
  {
   "cell_type": "code",
   "execution_count": null,
   "metadata": {},
   "outputs": [],
   "source": [
    "import requests, os\n",
    "import rarfile\n",
    "from pyunpack import Archive\n",
    "\n",
    "#Nombre del rar que se genera al descargar de la url\n",
    "file_xml = '/Users/jackyb/PycharmProjects/HandlingDataPreparation/data/input/xmlPrueba1.rar'\n",
    "#Path donde se va a guardar el rar\n",
    "path_final = '/Users/jackyb/PycharmProjects/HandlingDataPreparation/data/processed/'\n",
    "\n",
    "url = \"http://www.juntadeandalucia.es/datosabiertos/portal/dataset/14c0ad12-1470-4f35-8105-fb5015754e83/resource/693167f7-2005-4623-8011-6f2b56ed498b/download/raif_climatico_2002_2020.rar\"\n",
    "r = requests.get(url)\n",
    "\n",
    "open (file_xml,\"wb\").write(r.content)\n",
    "\n",
    "path_xml = os.path.abspath(file_xml)\n",
    "\n",
    "Archive(path_xml).extractall(path_final)"
   ]
  },
  {
   "cell_type": "markdown",
   "metadata": {},
   "source": [
    "La siguiente celda se ejecuta la primerza vez que se esté utilizando el notebook"
   ]
  },
  {
   "cell_type": "markdown",
   "metadata": {},
   "source": [
    "A continuación se carga cada xml, se pasa a dataframe y se guarda en un archivo csv:"
   ]
  },
  {
   "cell_type": "code",
   "execution_count": 10,
   "metadata": {},
   "outputs": [],
   "source": [
    "import os\n",
    "import xmltodict\n",
    "import pprint\n",
    "import json\n",
    "import glob\n",
    "import pandas as pd\n",
    "\n",
    "#La variable drct debe ser cambiada por un path válido donde se encuentren los archivos xml\n",
    "drct = glob.glob('/Users/jackyb/PycharmProjects/HandlingDataPreparation/data/input/raif_climatico_2002_2020/Clim*.xml')\n",
    "df = pd.DataFrame()\n",
    "\n",
    "#Itreramos por cada archivo xml\n",
    "for i in drct:\n",
    "    print(i)\n",
    "    file_name = os.path.basename(i)\n",
    "    file_name = file_name.replace(\"xml\",\"csv\")\n",
    "    with open(i) as fd:\n",
    "        doc = xmltodict.parse(fd.read())\n",
    "        my_json = json.dumps(doc)\n",
    "        res = json.loads(my_json)\n",
    "        \n",
    "        if('Diario' in res['dataroot']):\n",
    "            dfaux = pd.DataFrame(res[\"dataroot\"][\"Diario\"])\n",
    "            dfaux.to_csv(file_name)\n",
    "        elif('Diario_OpenData' in res['dataroot']):\n",
    "            dfaux = pd.DataFrame(res[\"dataroot\"][\"Diario_OpenData\"])\n",
    "            dfaux.to_csv(file_name)\n",
    "        else:\n",
    "            dfaux = pd.DataFrame(res[\"dataroot\"][\"Cns_OpenData\"])\n",
    "            dfaux.to_csv(file_name)\n"
   ]
  }
 ],
 "metadata": {
  "kernelspec": {
   "display_name": "Python 3 (ipykernel)",
   "language": "python",
   "name": "python3"
  },
  "language_info": {
   "codemirror_mode": {
    "name": "ipython",
    "version": 3
   },
   "file_extension": ".py",
   "mimetype": "text/x-python",
   "name": "python",
   "nbconvert_exporter": "python",
   "pygments_lexer": "ipython3",
   "version": "3.9.13"
  },
  "toc": {
   "base_numbering": 1,
   "nav_menu": {},
   "number_sections": true,
   "sideBar": true,
   "skip_h1_title": false,
   "title_cell": "Table of Contents",
   "title_sidebar": "Contents",
   "toc_cell": false,
   "toc_position": {},
   "toc_section_display": true,
   "toc_window_display": false
  },
  "varInspector": {
   "cols": {
    "lenName": 16,
    "lenType": 16,
    "lenVar": 40
   },
   "kernels_config": {
    "python": {
     "delete_cmd_postfix": "",
     "delete_cmd_prefix": "del ",
     "library": "var_list.py",
     "varRefreshCmd": "print(var_dic_list())"
    },
    "r": {
     "delete_cmd_postfix": ") ",
     "delete_cmd_prefix": "rm(",
     "library": "var_list.r",
     "varRefreshCmd": "cat(var_dic_list()) "
    }
   },
   "types_to_exclude": [
    "module",
    "function",
    "builtin_function_or_method",
    "instance",
    "_Feature"
   ],
   "window_display": false
  }
 },
 "nbformat": 4,
 "nbformat_minor": 4
}
